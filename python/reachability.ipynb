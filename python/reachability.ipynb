{
 "cells": [
  {
   "cell_type": "code",
   "execution_count": 6,
   "metadata": {},
   "outputs": [],
   "source": [
    "import numpy as np\n",
    "import time\n",
    "\n",
    "import utils\n",
    "from zonotope import Zonotope"
   ]
  },
  {
   "cell_type": "code",
   "execution_count": 7,
   "metadata": {},
   "outputs": [],
   "source": [
    "# System\n",
    "dt = 0.1\n",
    "n_s = 4  # State dimension\n",
    "n_c = 2  # Control dimension\n",
    "n_m = 2  # Measurement dimension\n",
    "\n",
    "A = np.eye(n_s)  # Dynamics matrix\n",
    "A[0:2,2:4] = dt*np.eye(2)\n",
    "B = np.array([[dt**2/2, 0],  # Control matrix\n",
    "              [0, dt**2/2],\n",
    "              [dt, 0],\n",
    "              [0, dt]])\n",
    "C = np.array([[1, 0, 0, 0],  # Measurement matrix\n",
    "              [0, 1, 0, 0]])\n",
    "\n",
    "Q_LQR = np.eye(n_s)\n",
    "R_LQR = np.eye(n_c)\n",
    "K = utils.dlqr_calculate(A, B, Q_LQR, R_LQR)\n",
    "\n",
    "Q = 0.01"
   ]
  },
  {
   "cell_type": "code",
   "execution_count": 3,
   "metadata": {},
   "outputs": [
    {
     "name": "stdout",
     "output_type": "stream",
     "text": [
      "Elapsed time:  0.0\n"
     ]
    }
   ],
   "source": [
    "start_t = time.time()\n",
    "new_z = A * z\n",
    "print(\"Elapsed time: \", time.time() - start_t)"
   ]
  },
  {
   "cell_type": "code",
   "execution_count": 4,
   "metadata": {},
   "outputs": [
    {
     "name": "stdout",
     "output_type": "stream",
     "text": [
      "center:\n",
      "\t[[0.]\n",
      "\t [0.]]\n",
      "generators:\n",
      "\t[[0.271 0.608]\n",
      "\t [0.047 0.475]]\n"
     ]
    }
   ],
   "source": [
    "print(new_z)"
   ]
  },
  {
   "cell_type": "code",
   "execution_count": null,
   "metadata": {},
   "outputs": [],
   "source": []
  }
 ],
 "metadata": {
  "interpreter": {
   "hash": "fa2603987b45f5c6c4ccf371e39b544aa3f4ad7397401e533fbe23cb52ddf66b"
  },
  "kernelspec": {
   "display_name": "Python 3.7.1",
   "language": "python",
   "name": "python3"
  },
  "language_info": {
   "codemirror_mode": {
    "name": "ipython",
    "version": 3
   },
   "file_extension": ".py",
   "mimetype": "text/x-python",
   "name": "python",
   "nbconvert_exporter": "python",
   "pygments_lexer": "ipython3",
   "version": "3.7.1"
  },
  "orig_nbformat": 4
 },
 "nbformat": 4,
 "nbformat_minor": 2
}

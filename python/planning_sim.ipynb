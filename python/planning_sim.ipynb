{
 "cells": [
  {
   "cell_type": "code",
   "execution_count": 16,
   "metadata": {},
   "outputs": [],
   "source": [
    "import numpy as np\n",
    "import time\n",
    "from LPM import LPM\n",
    "import utils\n",
    "import params"
   ]
  },
  {
   "cell_type": "code",
   "execution_count": 3,
   "metadata": {},
   "outputs": [],
   "source": [
    "lpm = LPM('quadrotor_linear_planning_model.mat')"
   ]
  },
  {
   "cell_type": "code",
   "execution_count": 9,
   "metadata": {},
   "outputs": [
    {
     "name": "stdout",
     "output_type": "stream",
     "text": [
      "elapsed time:  0.3845367431640625\n"
     ]
    }
   ],
   "source": [
    "k = np.array([[0.0, 0.0, 1.0], [0.0, 0.0, 1.0]])\n",
    "start_t = time.time()\n",
    "lpm.compute_trajectory(k)\n",
    "print(\"elapsed time: \", time.time() - start_t)"
   ]
  },
  {
   "cell_type": "code",
   "execution_count": 17,
   "metadata": {},
   "outputs": [
    {
     "name": "stdout",
     "output_type": "stream",
     "text": [
      "elapsed time:  0.001001119613647461\n"
     ]
    }
   ],
   "source": [
    "n_plan_max = 10000\n",
    "\n",
    "v_0 = np.zeros((params.N_DIM,1))\n",
    "\n",
    "v_max = 2.0 # L1 velocity constraints\n",
    "v_max_norm = 2.0\n",
    "V_bounds = np.tile(np.array([-v_max, v_max]), (1,params.N_DIM))[0]\n",
    "\n",
    "start_t = time.time()\n",
    "V_peak = utils.rand_in_bounds(V_bounds, n_plan_max)\n",
    "\n",
    "# eliminate samples that exceed the max velocity and max delta\n",
    "# from initial velocity\n",
    "V_peak_mag = np.linalg.norm(V_peak, ord=2, axis=0)\n",
    "delta_V_peak_mag = np.linalg.norm(V_peak - v_0, ord=2, axis=0)\n",
    "V_peak_test = V_peak_mag < v_max_norm\n",
    "V_peak = V_peak[:,V_peak_test]\n",
    "# V_peak_mag = np.linalg.norm(V_peak, 2, 0)\n",
    "# delta_V_peak_mag = np.linalg.norm(V_peak - np.tile(self.v_0,(1,self.n_plan_max)), 2, 0)\n",
    "# V_peak_test = np.logical_and(V_peak_mag < self.v_max_norm, delta_V_peak_mag < self.delta_v_peak_max)\n",
    "# V_peak = V_peak[:,V_peak_test]\n",
    "print(\"elapsed time: \", time.time() - start_t)"
   ]
  },
  {
   "cell_type": "code",
   "execution_count": 24,
   "metadata": {},
   "outputs": [
    {
     "data": {
      "text/plain": [
       "array([[-2.,  2., -2.,  2.]])"
      ]
     },
     "execution_count": 24,
     "metadata": {},
     "output_type": "execute_result"
    }
   ],
   "source": [
    "np.tile(np.array([-v_max, v_max]), (1,params.N_DIM))"
   ]
  },
  {
   "cell_type": "code",
   "execution_count": 22,
   "metadata": {},
   "outputs": [
    {
     "data": {
      "text/plain": [
       "array([[-0.17690017,  0.78355997,  1.02657601, ...,  0.40967189,\n",
       "         0.90227219, -0.472961  ],\n",
       "       [ 0.09663823, -0.23277067,  0.53018277, ..., -1.58534974,\n",
       "         1.62128416,  1.81971359]])"
      ]
     },
     "execution_count": 22,
     "metadata": {},
     "output_type": "execute_result"
    }
   ],
   "source": [
    "V_peak"
   ]
  },
  {
   "cell_type": "code",
   "execution_count": null,
   "metadata": {},
   "outputs": [],
   "source": []
  }
 ],
 "metadata": {
  "interpreter": {
   "hash": "6544a4f6c4c81bb627ffe33e2e2069de7ceab5a334b7c2380b1b0001fbb739c2"
  },
  "kernelspec": {
   "display_name": "Python 3.8.8 ('base')",
   "language": "python",
   "name": "python3"
  },
  "language_info": {
   "codemirror_mode": {
    "name": "ipython",
    "version": 3
   },
   "file_extension": ".py",
   "mimetype": "text/x-python",
   "name": "python",
   "nbconvert_exporter": "python",
   "pygments_lexer": "ipython3",
   "version": "3.8.8"
  },
  "orig_nbformat": 4
 },
 "nbformat": 4,
 "nbformat_minor": 2
}
